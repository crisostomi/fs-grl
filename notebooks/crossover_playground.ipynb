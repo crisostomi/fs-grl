{
 "cells": [
  {
   "cell_type": "code",
   "execution_count": null,
   "metadata": {
    "pycharm": {
     "name": "#%%\n"
    }
   },
   "outputs": [],
   "source": [
    "import numpy as np"
   ]
  },
  {
   "cell_type": "code",
   "execution_count": null,
   "metadata": {
    "pycharm": {
     "name": "#%%\n"
    }
   },
   "outputs": [],
   "source": [
    "emb_dim = 20"
   ]
  },
  {
   "cell_type": "code",
   "execution_count": null,
   "metadata": {
    "pycharm": {
     "name": "#%%\n"
    }
   },
   "outputs": [],
   "source": [
    "def construct_macro_features_gating_vector(alpha):\n",
    "    \"\"\"\n",
    "    :param alpha: mixing ratio\n",
    "\n",
    "    :return:\n",
    "    \"\"\"\n",
    "\n",
    "    num_macro_features = 5\n",
    "    macro_feature_indices = np.arange(0, num_macro_features)\n",
    "\n",
    "    macro_feature_size = emb_dim // num_macro_features\n",
    "    num_macro_features_to_sample = int(alpha * num_macro_features)\n",
    "    random_bin_indices = np.random.choice(macro_feature_indices, size=num_macro_features_to_sample) * macro_feature_size\n",
    "    indices_repeated = np.repeat(random_bin_indices, axis=0, repeats=macro_feature_size)\n",
    "    addend = np.tile(np.arange(macro_feature_size), num_macro_features_to_sample)\n",
    "    feature_to_sample_indices = indices_repeated + addend\n",
    "\n",
    "\n",
    "construct_macro_features_gating_vector(alpha=0.7)"
   ]
  },
  {
   "cell_type": "code",
   "execution_count": null,
   "metadata": {
    "pycharm": {
     "name": "#%%\n"
    }
   },
   "outputs": [],
   "source": []
  }
 ],
 "metadata": {
  "kernelspec": {
   "display_name": "Python 3",
   "language": "python",
   "name": "python3"
  },
  "language_info": {
   "codemirror_mode": {
    "name": "ipython",
    "version": 2
   },
   "file_extension": ".py",
   "mimetype": "text/x-python",
   "name": "python",
   "nbconvert_exporter": "python",
   "pygments_lexer": "ipython2",
   "version": "2.7.6"
  }
 },
 "nbformat": 4,
 "nbformat_minor": 0
}
