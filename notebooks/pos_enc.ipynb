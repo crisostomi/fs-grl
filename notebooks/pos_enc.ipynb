{
 "cells": [
  {
   "cell_type": "code",
   "execution_count": null,
   "metadata": {
    "pycharm": {
     "name": "#%%\n"
    }
   },
   "outputs": [],
   "source": [
    "import numpy as np\n",
    "import torch\n",
    "from torch_geometric.data import Batch\n",
    "from torch_geometric.utils import to_networkx\n",
    "\n",
    "from fs_grl.data.io_utils import load_data\n",
    "import networkx as nx\n",
    "import scipy\n",
    "import matplotlib.pyplot as plt"
   ]
  },
  {
   "cell_type": "markdown",
   "metadata": {},
   "source": [
    "# Input"
   ]
  },
  {
   "cell_type": "code",
   "execution_count": null,
   "metadata": {},
   "outputs": [],
   "source": [
    "graph = to_networkx(data_list[0], to_undirected=True)"
   ]
  },
  {
   "cell_type": "code",
   "execution_count": null,
   "metadata": {},
   "outputs": [],
   "source": [
    "graph = nx.generators.tutte_graph()\n",
    "nx.draw(graph)"
   ]
  },
  {
   "cell_type": "markdown",
   "metadata": {},
   "source": [
    "# Eigendecomposition"
   ]
  },
  {
   "cell_type": "code",
   "execution_count": null,
   "metadata": {},
   "outputs": [],
   "source": [
    "laplacian = nx.laplacian_matrix(graph).asfptype()\n",
    "eigenvals, eigenvecs = scipy.sparse.linalg.eigsh(laplacian, k=2, which=\"SM\")\n",
    "principal_eigenvec = eigenvecs.transpose()[1]"
   ]
  },
  {
   "cell_type": "code",
   "execution_count": null,
   "metadata": {},
   "outputs": [],
   "source": [
    "print(principal_eigenvec)\n",
    "print(f'norm: {np.linalg.norm(principal_eigenvec)}')"
   ]
  },
  {
   "cell_type": "code",
   "execution_count": null,
   "metadata": {},
   "outputs": [],
   "source": [
    "node_color = value2color(principal_eigenvec, min_value=principal_eigenvec.min(), max_value=principal_eigenvec.max())\n",
    "nx.draw(graph, node_color=node_color, pos=pos)"
   ]
  },
  {
   "cell_type": "markdown",
   "metadata": {},
   "source": [
    "# Positional encodings"
   ]
  },
  {
   "cell_type": "code",
   "execution_count": null,
   "metadata": {},
   "outputs": [],
   "source": [
    "K = 5"
   ]
  },
  {
   "cell_type": "code",
   "execution_count": null,
   "metadata": {},
   "outputs": [],
   "source": [
    "positional_encodings = []\n",
    "\n",
    "for k in range(1, K + 1):\n",
    "    kth_pos_enc = np.cos(principal_eigenvec * 2 * np.pi * k)\n",
    "    positional_encodings.append(kth_pos_enc)\n",
    "\n",
    "positional_encodings = np.stack(positional_encodings, axis=1)"
   ]
  },
  {
   "cell_type": "code",
   "execution_count": null,
   "metadata": {},
   "outputs": [],
   "source": [
    "positional_encodings"
   ]
  },
  {
   "cell_type": "markdown",
   "metadata": {},
   "source": [
    "# Visualization"
   ]
  },
  {
   "cell_type": "code",
   "execution_count": null,
   "metadata": {},
   "outputs": [],
   "source": [
    "pos_enc = positional_encodings"
   ]
  },
  {
   "cell_type": "code",
   "execution_count": null,
   "metadata": {},
   "outputs": [],
   "source": [
    "def value2color(values, min_value, max_value):\n",
    "    \"\"\"\n",
    "    Normalize between 0 and 1 and convert to colormap\n",
    "    \"\"\"\n",
    "    values_norm = values - min_value\n",
    "    values_norm /= max_value\n",
    "    return plt.cm.RdBu(values_norm)"
   ]
  },
  {
   "cell_type": "code",
   "execution_count": null,
   "metadata": {},
   "outputs": [],
   "source": [
    "global_min = pos_enc[0][0]\n",
    "global_max = pos_enc[0][0]\n",
    "\n",
    "for k in range(K):\n",
    "    for el in pos_enc[:, k]:\n",
    "        if el < global_min:\n",
    "            global_min = el\n",
    "        if el > global_max:\n",
    "            global_max = el\n",
    "\n",
    "print(global_min, global_max)"
   ]
  },
  {
   "cell_type": "code",
   "execution_count": null,
   "metadata": {},
   "outputs": [],
   "source": [
    "node_colors = {k: value2color(pos_enc[:, k], global_min, global_max) for k in range(K)}"
   ]
  },
  {
   "cell_type": "code",
   "execution_count": null,
   "metadata": {},
   "outputs": [],
   "source": [
    "pos = nx.spring_layout(graph)\n",
    "for k in range(K):\n",
    "    nx.draw(graph, node_color=node_colors[k], pos=pos)\n",
    "    plt.show()\n"
   ]
  }
 ],
 "metadata": {
  "kernelspec": {
   "display_name": "Python 3 (ipykernel)",
   "language": "python",
   "name": "python3"
  },
  "language_info": {
   "codemirror_mode": {
    "name": "ipython",
    "version": 3
   },
   "file_extension": ".py",
   "mimetype": "text/x-python",
   "name": "python",
   "nbconvert_exporter": "python",
   "pygments_lexer": "ipython3",
   "version": "3.8.12"
  }
 },
 "nbformat": 4,
 "nbformat_minor": 1
}
